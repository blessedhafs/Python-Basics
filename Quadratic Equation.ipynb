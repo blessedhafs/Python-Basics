{
 "cells": [
  {
   "cell_type": "markdown",
   "metadata": {},
   "source": [
    "## Task 4: Solving a Quadratic Equation\n",
    "Given the quadratic expression: $ax^2 + bx + c = 0$, and its corresponding quadratic formula:\n",
    "\n",
    " $x = \\frac{-b \\pm \\sqrt{b^2 - 4ac}}{2a}$\n",
    "\n",
    " where:\n",
    "\n",
    " $a$ represents the coefficient of $x^2$, $b$ represents the coefficient of $x$, and $c$ represents the constant (the last term in the expression).\n",
    "\n",
    "Task\n",
    "\n",
    "Write a Python code that can solve the following quadratic equation:  \n",
    "&nbsp; &nbsp; &nbsp; &nbsp;1.&nbsp; &nbsp; &nbsp; &nbsp; $2x^2 - 85x + 200 = 0$  \n",
    "&nbsp; &nbsp; &nbsp; &nbsp;2.&nbsp; &nbsp; &nbsp; &nbsp; $2x^2 - 6x - 20 = 0$  \n",
    "&nbsp; &nbsp; &nbsp; &nbsp;3.&nbsp; &nbsp; &nbsp; &nbsp; $0.00012x^2 + 0.08x - 70 = 0$  \n",
    "\n",
    "Detailed Instructions:  \n",
    "\n",
    "1. Accepts user input for the values of , , and .\n",
    "The program should prompt the user with:\n",
    "\n",
    "&nbsp; &nbsp; &nbsp; &nbsp;\"What is the value of a ?\"\n",
    "\n",
    "&nbsp; &nbsp; &nbsp; &nbsp;\"What is the value of b ?\"\n",
    "\n",
    "&nbsp; &nbsp; &nbsp; &nbsp;\"What is the value of c ?\"\n",
    "\n",
    "\n",
    "\n",
    "2. Calculates the solutions to the quadratic equation using the quadratic formula.\n",
    "\n",
    "\n",
    "3. Outputs the solutions in the following format:\n",
    "\n",
    "The solution to your quadratic equation is: x = 1 or x = 4\n",
    "\n",
    "If your answers are not similar to what we have in the code cell below you are wrong!!!"
   ]
  },
  {
   "cell_type": "code",
   "execution_count": 1,
   "metadata": {},
   "outputs": [
    {
     "ename": "ValueError",
     "evalue": "math domain error",
     "output_type": "error",
     "traceback": [
      "\u001b[1;31m---------------------------------------------------------------------------\u001b[0m",
      "\u001b[1;31mValueError\u001b[0m                                Traceback (most recent call last)",
      "Cell \u001b[1;32mIn[1], line 12\u001b[0m\n\u001b[0;32m      9\u001b[0m c\u001b[38;5;241m=\u001b[39m\u001b[38;5;28mfloat\u001b[39m(c)\n\u001b[0;32m     11\u001b[0m \u001b[38;5;66;03m#calculate the quadratic equation\u001b[39;00m\n\u001b[1;32m---> 12\u001b[0m x \u001b[38;5;241m=\u001b[39m (\u001b[38;5;241m-\u001b[39mb \u001b[38;5;241m+\u001b[39m \u001b[43mmath\u001b[49m\u001b[38;5;241;43m.\u001b[39;49m\u001b[43msqrt\u001b[49m\u001b[43m(\u001b[49m\u001b[43m(\u001b[49m\u001b[43mb\u001b[49m\u001b[38;5;241;43m*\u001b[39;49m\u001b[38;5;241;43m*\u001b[39;49m\u001b[38;5;241;43m2\u001b[39;49m\u001b[43m)\u001b[49m\u001b[43m \u001b[49m\u001b[38;5;241;43m-\u001b[39;49m\u001b[43m \u001b[49m\u001b[43m(\u001b[49m\u001b[38;5;241;43m4\u001b[39;49m\u001b[38;5;241;43m*\u001b[39;49m\u001b[43ma\u001b[49m\u001b[38;5;241;43m*\u001b[39;49m\u001b[43mc\u001b[49m\u001b[43m)\u001b[49m\u001b[43m)\u001b[49m) \u001b[38;5;241m/\u001b[39m (\u001b[38;5;241m2\u001b[39m\u001b[38;5;241m*\u001b[39ma)\n\u001b[0;32m     13\u001b[0m x2 \u001b[38;5;241m=\u001b[39m (\u001b[38;5;241m-\u001b[39mb \u001b[38;5;241m-\u001b[39m math\u001b[38;5;241m.\u001b[39msqrt((b\u001b[38;5;241m*\u001b[39m\u001b[38;5;241m*\u001b[39m\u001b[38;5;241m2\u001b[39m) \u001b[38;5;241m-\u001b[39m (\u001b[38;5;241m4\u001b[39m\u001b[38;5;241m*\u001b[39ma\u001b[38;5;241m*\u001b[39mc))) \u001b[38;5;241m/\u001b[39m (\u001b[38;5;241m2\u001b[39m\u001b[38;5;241m*\u001b[39ma)\n\u001b[0;32m     15\u001b[0m \u001b[38;5;28mprint\u001b[39m(\u001b[38;5;124mf\u001b[39m\u001b[38;5;124m\"\u001b[39m\u001b[38;5;124mThe solution to your quadratic equation is: x = \u001b[39m\u001b[38;5;132;01m{\u001b[39;00mx\u001b[38;5;132;01m}\u001b[39;00m\u001b[38;5;124m or x = \u001b[39m\u001b[38;5;132;01m{\u001b[39;00mx2\u001b[38;5;132;01m}\u001b[39;00m\u001b[38;5;124m\"\u001b[39m)\n",
      "\u001b[1;31mValueError\u001b[0m: math domain error"
     ]
    }
   ],
   "source": [
    "import math\n",
    "a = input(\"What is the value of a?\") \n",
    "b = input(\"What is the value of b?\")\n",
    "c = input(\"What is the value of c?\")\n",
    "\n",
    "# Upgrade to float\n",
    "a=float(a)\n",
    "b=float(b)\n",
    "c=float(c)\n",
    "\n",
    "#calculate the quadratic equation\n",
    "x = (-b + math.sqrt((b**2) - (4*a*c))) / (2*a)\n",
    "x2 = (-b - math.sqrt((b**2) - (4*a*c))) / (2*a)\n",
    "\n",
    "print(f\"The solution to your quadratic equation is: x = {x} or x = {x2}\")\n",
    "\n",
    "# x = 2.5 or x = 40\n",
    "# x = 5 or x = -2\n",
    "# x = -1166.6666666666667 or x = 499.99999999999994"
   ]
  },
  {
   "cell_type": "code",
   "execution_count": null,
   "metadata": {},
   "outputs": [],
   "source": []
  }
 ],
 "metadata": {
  "kernelspec": {
   "display_name": "Python 3",
   "language": "python",
   "name": "python3"
  },
  "language_info": {
   "codemirror_mode": {
    "name": "ipython",
    "version": 3
   },
   "file_extension": ".py",
   "mimetype": "text/x-python",
   "name": "python",
   "nbconvert_exporter": "python",
   "pygments_lexer": "ipython3",
   "version": "3.13.0"
  }
 },
 "nbformat": 4,
 "nbformat_minor": 2
}
