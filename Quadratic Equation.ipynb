{
 "cells": [
  {
   "cell_type": "markdown",
   "metadata": {},
   "source": [
    "## Task 4: Solving a Quadratic Equation\n",
    "Given the quadratic expression: $ax^2 + bx + c = 0$, and its corresponding quadratic formula:\n",
    "\n",
    " $x = \\frac{-b \\pm \\sqrt{b^2 - 4ac}}{2a}$\n",
    "\n",
    " where:\n",
    "\n",
    " $a$ represents the coefficient of $x^2$, $b$ represents the coefficient of $x$, and $c$ represents the constant (the last term in the expression).\n",
    "\n",
    "Task\n",
    "\n",
    "Write a Python code that can solve the following quadratic equation:  \n",
    "&nbsp; &nbsp; &nbsp; &nbsp;1.&nbsp; &nbsp; &nbsp; &nbsp; $2x^2 - 85x + 200 = 0$  \n",
    "&nbsp; &nbsp; &nbsp; &nbsp;2.&nbsp; &nbsp; &nbsp; &nbsp; $2x^2 - 6x - 20 = 0$  \n",
    "&nbsp; &nbsp; &nbsp; &nbsp;3.&nbsp; &nbsp; &nbsp; &nbsp; $0.00012x^2 + 0.08x - 70 = 0$  \n",
    "\n",
    "Detailed Instructions:  \n",
    "\n",
    "1. Accepts user input for the values of , , and .\n",
    "The program should prompt the user with:\n",
    "\n",
    "&nbsp; &nbsp; &nbsp; &nbsp;\"What is the value of a ?\"\n",
    "\n",
    "&nbsp; &nbsp; &nbsp; &nbsp;\"What is the value of b ?\"\n",
    "\n",
    "&nbsp; &nbsp; &nbsp; &nbsp;\"What is the value of c ?\"\n",
    "\n",
    "\n",
    "\n",
    "2. Calculates the solutions to the quadratic equation using the quadratic formula.\n",
    "\n",
    "\n",
    "3. Outputs the solutions in the following format:\n",
    "\n",
    "The solution to your quadratic equation is: x = 1 or x = 4\n",
    "\n",
    "If your answers are not similar to what we have in the code cell below you are wrong!!!"
   ]
  },
  {
   "cell_type": "code",
   "execution_count": 3,
   "metadata": {},
   "outputs": [
    {
     "name": "stdout",
     "output_type": "stream",
     "text": [
      "The solution to your quadratic equation is: x = 40.0 or x = 2.5\n"
     ]
    }
   ],
   "source": [
    "import math\n",
    "a = input(\"What is the value of a?\") \n",
    "b = input(\"What is the value of b?\")\n",
    "c = input(\"What is the value of c?\")\n",
    "\n",
    "# Upgrade to float\n",
    "a=float(a)\n",
    "b=float(b)\n",
    "c=float(c)\n",
    "\n",
    "#calculate the quadratic equation\n",
    "x = (-b + math.sqrt((b**2) - (4*a*c))) / (2*a)\n",
    "x2 = (-b - math.sqrt((b**2) - (4*a*c))) / (2*a)\n",
    "\n",
    "print(f\"The solution to your quadratic equation is: x = {x} or x = {x2}\")\n",
    "\n",
    "# x = 2.5 or x = 40\n",
    "# x = 5 or x = -2\n",
    "# x = -1166.6666666666667 or x = 499.99999999999994"
   ]
  },
  {
   "cell_type": "code",
   "execution_count": null,
   "metadata": {},
   "outputs": [],
   "source": []
  }
 ],
 "metadata": {
  "kernelspec": {
   "display_name": "Python 3",
   "language": "python",
   "name": "python3"
  },
  "language_info": {
   "codemirror_mode": {
    "name": "ipython",
    "version": 3
   },
   "file_extension": ".py",
   "mimetype": "text/x-python",
   "name": "python",
   "nbconvert_exporter": "python",
   "pygments_lexer": "ipython3",
   "version": "3.13.0"
  }
 },
 "nbformat": 4,
 "nbformat_minor": 2
}
