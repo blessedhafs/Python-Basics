{
 "cells": [
  {
   "cell_type": "markdown",
   "metadata": {},
   "source": [
    "## Task 12\n",
    "\n",
    "Ask the user for a word. Use a for loop to check if the string is a palindrome (i.e., reads the same forward and backward).\n",
    "\n",
    "Your output should look like this of it is a palindrome:  \n",
    "\n",
    "Input: radar  \n",
    "Output: Yes, it's a palindrome.  \n",
    "\n",
    "\n",
    "If it is not, tell the user that it is not a palindrome\n",
    "\n"
   ]
  },
  {
   "cell_type": "code",
   "execution_count": 11,
   "metadata": {},
   "outputs": [
    {
     "name": "stdout",
     "output_type": "stream",
     "text": [
      "Yes, radar is a palindrome\n"
     ]
    }
   ],
   "source": [
    "# Prompt the user to enter a word\n",
    "wrd = input(\"Enter a word: \")\n",
    "\n",
    "# change to lowercase for case uniformity\n",
    "wrd = wrd.lower()\n",
    "# Split the word into a list of characters\n",
    "wrd_lst = [x for x in wrd]\n",
    "\n",
    "# Reverse the list of characters\n",
    "wrd_lst.reverse()\n",
    "\n",
    "# Join the reversed list back into a string\n",
    "nw_wrd = \"\".join(wrd_lst)\n",
    "\n",
    "# Check if the original word is the same as the reversed word\n",
    "if wrd == nw_wrd:\n",
    "    print(f\"Yes, {wrd} is a palindrome\")\n",
    "else:\n",
    "    print(f\"No, {wrd} is not a palindrome\")"
   ]
  }
 ],
 "metadata": {
  "kernelspec": {
   "display_name": "Python 3",
   "language": "python",
   "name": "python3"
  },
  "language_info": {
   "codemirror_mode": {
    "name": "ipython",
    "version": 3
   },
   "file_extension": ".py",
   "mimetype": "text/x-python",
   "name": "python",
   "nbconvert_exporter": "python",
   "pygments_lexer": "ipython3",
   "version": "3.13.0"
  }
 },
 "nbformat": 4,
 "nbformat_minor": 2
}
