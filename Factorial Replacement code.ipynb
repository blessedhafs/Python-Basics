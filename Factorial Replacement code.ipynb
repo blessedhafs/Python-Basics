{
 "cells": [
  {
   "cell_type": "markdown",
   "metadata": {},
   "source": [
    "## Task 7\n",
    "\n",
    "Write a code that does exactly what math.factorial does. Ask the user for a number n. save your result in a variable called sum_of_num. print the result in a string formatted as:\n",
    "\n",
    "The factorial of n (the number the user typed is (your answer))"
   ]
  },
  {
   "cell_type": "code",
   "execution_count": 1,
   "metadata": {},
   "outputs": [
    {
     "name": "stdout",
     "output_type": "stream",
     "text": [
      "The factorial of 5 is 120\n"
     ]
    }
   ],
   "source": [
    "n = int(input(\"Enter a number\"))\n",
    "sum_of_num = 1\n",
    "\n",
    "for num in range(1, n+1):\n",
    "    sum_of_num *= num\n",
    "print(f\"The factorial of {n} is {sum_of_num}\")"
   ]
  },
  {
   "cell_type": "code",
   "execution_count": 2,
   "metadata": {},
   "outputs": [
    {
     "name": "stdout",
     "output_type": "stream",
     "text": [
      "The factorial of 5 is 120\n"
     ]
    }
   ],
   "source": [
    "inp_num = int(input(\"Enter a number\"))\n",
    "num_list = list(range(1, inp_num+ 1))\n",
    "str_num_lst = []\n",
    "for x in num_list:\n",
    "    str_num_lst.append(str(x))\n",
    "res = \"*\".join(str_num_lst)\n",
    "fn_res = eval(res)\n",
    "print(f\"The factorial of {inp_num} is {fn_res}\")"
   ]
  }
 ],
 "metadata": {
  "kernelspec": {
   "display_name": "Python 3",
   "language": "python",
   "name": "python3"
  },
  "language_info": {
   "codemirror_mode": {
    "name": "ipython",
    "version": 3
   },
   "file_extension": ".py",
   "mimetype": "text/x-python",
   "name": "python",
   "nbconvert_exporter": "python",
   "pygments_lexer": "ipython3",
   "version": "3.13.0"
  }
 },
 "nbformat": 4,
 "nbformat_minor": 2
}
