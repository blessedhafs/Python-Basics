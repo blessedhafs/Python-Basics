{
 "cells": [
  {
   "cell_type": "markdown",
   "metadata": {},
   "source": [
    "## Task 2\n",
    "\n",
    "Write a code that takes two numbers from the user and performs basic arithmetic operations.  \n",
    "Check the code cell below for detailed instructions "
   ]
  },
  {
   "cell_type": "code",
   "execution_count": 2,
   "metadata": {},
   "outputs": [],
   "source": [
    "# 1. Ask the user to input two numbers.\n",
    "# 2. Perform addition, subtraction, multiplication, division, exponent, floor division, modulus division (reminder) \n",
    "# 3. Print the results using f-strings.\n",
    "# Something like this \n",
    "# 1 + 4 = 4\n",
    "# 4 - 5 = - 1 etc.... \n",
    "# Note: Take note of the spacings \n"
   ]
  },
  {
   "cell_type": "code",
   "execution_count": 3,
   "metadata": {},
   "outputs": [
    {
     "name": "stdout",
     "output_type": "stream",
     "text": [
      "4.0 + 3.0 = 7.0 \n",
      "4.0 - 3.0 = 1.0 \n",
      "4.0 * 3.0 = 12.0 \n",
      "4.0 / 3.0 = 1.33 \n",
      "4.0 ** 3.0 = 64.0 \n",
      "4.0 // 3.0 = 1.0 \n",
      "4.0 % 3.0 = 1.0\n"
     ]
    }
   ],
   "source": [
    "# Solution\n",
    "#ask user to input two numbers\n",
    "msg = input(\"please, input a first number\")\n",
    "msg2 = input(\"please, input a second number\")\n",
    "msg = float(msg) # change to float\n",
    "msg2 = float(msg2) # change to float\n",
    "\n",
    "#print the addition, subtraction, multiplication, division, exponential\n",
    "print(f\"{msg} + {msg2} = {msg + msg2}\\\n",
    " \\n{msg} - {msg2} = {msg -msg2}\\\n",
    " \\n{msg} * {msg2} = {msg*msg2}\\\n",
    " \\n{msg} / {msg2} = {(msg/msg2):.2f}\\\n",
    " \\n{msg} ** {msg2} = {msg**msg2}\\\n",
    " \\n{msg} // {msg2} = {msg//msg2}\\\n",
    " \\n{msg} % {msg2} = {msg%msg2}\")"
   ]
  },
  {
   "cell_type": "code",
   "execution_count": null,
   "metadata": {},
   "outputs": [],
   "source": []
  }
 ],
 "metadata": {
  "kernelspec": {
   "display_name": "Python 3",
   "language": "python",
   "name": "python3"
  },
  "language_info": {
   "codemirror_mode": {
    "name": "ipython",
    "version": 3
   },
   "file_extension": ".py",
   "mimetype": "text/x-python",
   "name": "python",
   "nbconvert_exporter": "python",
   "pygments_lexer": "ipython3",
   "version": "3.13.0"
  }
 },
 "nbformat": 4,
 "nbformat_minor": 2
}
