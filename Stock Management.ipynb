{
 "cells": [
  {
   "cell_type": "markdown",
   "metadata": {},
   "source": [
    "## Task 6\n",
    "You are tasked with writing a Python program for stock management in a bookshop. The program should take user input and provide specific outputs based on the data entered. Follow the instructions below to build the program.\n",
    "Ask the user to input the title of a book.\n",
    "\n",
    "Clean the input by:\n",
    "\n",
    "\n",
    "1. Removing any leading or trailing spaces.\n",
    "\n",
    "\n",
    "2. Capitalize each word in the title. \n",
    "\n",
    "\n",
    "Ask the user to input the price of the book and the quantity purchased. If the total price (price × quantity) exceeds #1,000, apply a 10% discount. Otherwise, apply a 5% discount. Display the book title, total price (before and after the discount), and the amount saved in a formatted message.\n",
    "\n",
    "\n",
    "\n",
    "Fix the following errors that are likely to occur \n",
    "\n",
    "\n",
    "If the price or quantity is invalid (non-numeric), display an error message.\n",
    "\n",
    "\n",
    "If the price or quantity is negative, display an error message.\n",
    "\n",
    "\n",
    "\n",
    "Your answer should look like this:\n",
    "\n",
    "\n",
    "This is your transaction details:  \n",
    "Book Title: Things Fall Apart   \n",
    "Quantity Purchased: 8    \n",
    "Price Per Book: #170.22k  \n",
    "Total Price (Before Discount): #12,400.00k    \n",
    "Discount Applied: 10%    \n",
    "Price After Discount: #1,111.60k    \n",
    "Amount Saved: #122.40k  \n"
   ]
  },
  {
   "cell_type": "code",
   "execution_count": 1,
   "metadata": {},
   "outputs": [
    {
     "name": "stdout",
     "output_type": "stream",
     "text": [
      "This is your transaction receipt\n",
      "Book Title: Things fall apart\n",
      "Quantity Purchased: 3.0\n",
      "Price per Book: 500.0\n",
      "Total Price(Before Discount): #1,500.00\n",
      "Discount Applied: 10.0%\n",
      "Price After Discount: 150.00\n",
      "Amount saved: 1350.00\n"
     ]
    }
   ],
   "source": [
    "title = input(\"What is the title of the book you want?\").strip().capitalize()\n",
    "price =input(\"Please enter the price:\")\n",
    "quantity = input(\"How many would you love to buy?\")\n",
    "\n",
    "\n",
    "try:\n",
    "    price = float(price)\n",
    "    quantity = float(quantity)\n",
    "except ValueError:\n",
    "    print(f\"Invalid price or quantity. see your input below. price: {price}\\nQuantity: {quantity}\")\n",
    "else:\n",
    "    if price < 0 or quantity < 0:\n",
    "        print(\"Error! Only positive numbers are allowed\")\n",
    "    else:\n",
    "        total_price = price * quantity\n",
    "        if total_price > 1000:\n",
    "            discount = 0.9\n",
    "            discount_price = total_price * 0.9\n",
    "        else:\n",
    "            dicount = 0.95\n",
    "            discount_price = total_price * 0.95\n",
    "\n",
    "        print(f\"This is your transaction receipt\\nBook Title: {title}\\nQuantity Purchased: {quantity}\\\n",
    "\\nPrice per Book: {price}\\nTotal Price(Before Discount): #{total_price:,.2f}\\\n",
    "\\nDiscount Applied: {(1-discount):.1%}\\nPrice After Discount: {((1-discount)*total_price):.2f}\\nAmount saved: {total_price - ((1-discount)*total_price):.2f}\"\n",
    "                    )\n",
    "\n",
    "\n"
   ]
  }
 ],
 "metadata": {
  "kernelspec": {
   "display_name": "Python 3",
   "language": "python",
   "name": "python3"
  },
  "language_info": {
   "codemirror_mode": {
    "name": "ipython",
    "version": 3
   },
   "file_extension": ".py",
   "mimetype": "text/x-python",
   "name": "python",
   "nbconvert_exporter": "python",
   "pygments_lexer": "ipython3",
   "version": "3.13.0"
  }
 },
 "nbformat": 4,
 "nbformat_minor": 2
}
