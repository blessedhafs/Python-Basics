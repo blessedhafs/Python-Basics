{
 "cells": [
  {
   "cell_type": "markdown",
   "metadata": {},
   "source": [
    "## Task 14\n",
    "\n",
    "The goal of this challenge is to analyze a string to check if it contains two of the same letter in a row. For example, the string \"hello\" has l twice in a row, while the string \"nono\" does not have two identical letters in a row."
   ]
  },
  {
   "cell_type": "code",
   "execution_count": 1,
   "metadata": {},
   "outputs": [
    {
     "name": "stdout",
     "output_type": "stream",
     "text": [
      "True\n"
     ]
    }
   ],
   "source": [
    "word = \"hello\"\n",
    "\n",
    "# Initialize a variable to keep track if we found any consecutive repeated letters\n",
    "consecutive_repeated = False\n",
    "\n",
    "# Loop through each character except the last one\n",
    "for i in range(len(word) - 1):\n",
    "    if word[i] == word[i + 1]:\n",
    "        consecutive_repeated = True\n",
    "        break  # If we found a pair, we can exit the loop early\n",
    "\n",
    "if consecutive_repeated:\n",
    "    print(True)\n",
    "else:\n",
    "    print(False)"
   ]
  }
 ],
 "metadata": {
  "kernelspec": {
   "display_name": "Python 3",
   "language": "python",
   "name": "python3"
  },
  "language_info": {
   "codemirror_mode": {
    "name": "ipython",
    "version": 3
   },
   "file_extension": ".py",
   "mimetype": "text/x-python",
   "name": "python",
   "nbconvert_exporter": "python",
   "pygments_lexer": "ipython3",
   "version": "3.13.0"
  }
 },
 "nbformat": 4,
 "nbformat_minor": 2
}
