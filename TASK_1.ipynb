{
 "cells": [
  {
   "cell_type": "markdown",
   "metadata": {},
   "source": [
    "## Task 1\n",
    "Write a code that will tell us the numbers of vowls in a text, for instance, the string 'python programmer' has 3 vowels ----> o,a,e\n",
    "The string to work with is stored in a variable called text_001 in the code cell below\n",
    "Store your answer in a new variable called num_of_vowels"
   ]
  },
  {
   "cell_type": "code",
   "execution_count": 1,
   "metadata": {},
   "outputs": [
    {
     "name": "stdout",
     "output_type": "stream",
     "text": [
      "191\n"
     ]
    }
   ],
   "source": [
    "# solution\n",
    "text_001 = '''\n",
    "This chapter presents the results, interpretations, and discussions \n",
    "of findings. The sample for this research comprised 305 privately \n",
    "owned secondary school teachers five secondary schools in Ibadan North \n",
    "Local Government, Oyo State. Data were collected through a structured \n",
    "questionnaire, and the demographic characteristics of the respondents \n",
    "such as age, educational qualifications, gender, marital status, religion \n",
    "and their years of teaching experience were included. The research questions \n",
    "were answered using descriptive statistics while the hypotheses were tested \n",
    "at 0.05 level of significance. '''\n",
    "\n",
    "text_001.find(\"i\")\n",
    "text_001.count(\"i\")\n",
    "\n",
    "# change text to lower for uniformity\n",
    "text_002 = text_001.lower()\n",
    "\n",
    "num_of_a = text_002.count(\"a\") # count number of a in text\n",
    "num_of_e = text_002.count(\"e\") # count number of e in text\n",
    "num_of_i = text_002.count(\"i\") # count number of i in text\n",
    "num_of_o = text_002.count(\"o\") # count number of o in text\n",
    "num_of_u = text_002.count(\"u\") # count number of u in text\n",
    "\n",
    "# add all to get the total number of vowels\n",
    "num_of_vowels = num_of_a + num_of_e + num_of_i + num_of_o + num_of_u\n",
    "print(num_of_vowels)\n"
   ]
  }
 ],
 "metadata": {
  "kernelspec": {
   "display_name": "Python 3",
   "language": "python",
   "name": "python3"
  },
  "language_info": {
   "codemirror_mode": {
    "name": "ipython",
    "version": 3
   },
   "file_extension": ".py",
   "mimetype": "text/x-python",
   "name": "python",
   "nbconvert_exporter": "python",
   "pygments_lexer": "ipython3",
   "version": "3.13.0"
  }
 },
 "nbformat": 4,
 "nbformat_minor": 2
}
