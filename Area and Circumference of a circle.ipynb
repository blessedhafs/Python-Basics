{
 "cells": [
  {
   "cell_type": "markdown",
   "metadata": {},
   "source": [
    "## Task 3\n",
    "Calculate the area and circumference of a circle.  \n",
    "Check the code cell below for detailed instructions "
   ]
  },
  {
   "cell_type": "code",
   "execution_count": 2,
   "metadata": {},
   "outputs": [],
   "source": [
    "# Task:\n",
    "# 1. Ask the user to input the radius of a circle.\n",
    "# 2. Use math functions to calculate the area and circumference.\n",
    "# 3. Print the results using f-strings.\n",
    "# Hint: \n",
    "# Area = pi * r^2, \n",
    "# Circumference = 2 * pi * r, pi can be imported from math module"
   ]
  },
  {
   "cell_type": "code",
   "execution_count": 4,
   "metadata": {},
   "outputs": [
    {
     "name": "stdout",
     "output_type": "stream",
     "text": [
      "Area = 66.48\n",
      "Circumference = 28.90\n"
     ]
    }
   ],
   "source": [
    "# Solution\n",
    "\n",
    "import math\n",
    "pi = math.pi\n",
    "r = input(\"what is the radius?\") # input radius, r\n",
    "r = float(r) # upgrades to float\n",
    "\n",
    "print(f\"Area = {(pi * r**2):.2f}\\nCircumference = {(2 * pi * r):.2f}\") # Calculates the Area and circumference of the circle"
   ]
  }
 ],
 "metadata": {
  "kernelspec": {
   "display_name": "Python 3",
   "language": "python",
   "name": "python3"
  },
  "language_info": {
   "codemirror_mode": {
    "name": "ipython",
    "version": 3
   },
   "file_extension": ".py",
   "mimetype": "text/x-python",
   "name": "python",
   "nbconvert_exporter": "python",
   "pygments_lexer": "ipython3",
   "version": "3.13.0"
  }
 },
 "nbformat": 4,
 "nbformat_minor": 2
}
