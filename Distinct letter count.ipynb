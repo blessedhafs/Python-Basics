{
 "cells": [
  {
   "cell_type": "markdown",
   "metadata": {},
   "source": [
    "# Task 20\n",
    "\n",
    "Unique letters count\n",
    "\n",
    "write a function that takes a string argument and returns the number of occurrence of distinct character in the string in a dictionary pair manner."
   ]
  },
  {
   "cell_type": "code",
   "execution_count": 1,
   "metadata": {},
   "outputs": [],
   "source": [
    "def distinct_count(word):\n",
    "    my_dict = {x:word.count(x) for x in word}\n",
    "    print(my_dict)"
   ]
  },
  {
   "cell_type": "code",
   "execution_count": 2,
   "metadata": {},
   "outputs": [
    {
     "name": "stdout",
     "output_type": "stream",
     "text": [
      "{'t': 3, 'i': 3, 'n': 4, 'a': 2, 'b': 1, 'u': 1, 'l': 1, 'o': 1}\n"
     ]
    }
   ],
   "source": [
    "distinct_count('tintinnabulation')"
   ]
  },
  {
   "cell_type": "code",
   "execution_count": 3,
   "metadata": {},
   "outputs": [
    {
     "name": "stdout",
     "output_type": "stream",
     "text": [
      "{'h': 1, 'i': 1, 'p': 3, 'o': 2, 't': 1, 'a': 1, 'm': 1, 'u': 1, 's': 1}\n"
     ]
    }
   ],
   "source": [
    "distinct_count('hippopotamus')"
   ]
  }
 ],
 "metadata": {
  "kernelspec": {
   "display_name": "Python 3",
   "language": "python",
   "name": "python3"
  },
  "language_info": {
   "codemirror_mode": {
    "name": "ipython",
    "version": 3
   },
   "file_extension": ".py",
   "mimetype": "text/x-python",
   "name": "python",
   "nbconvert_exporter": "python",
   "pygments_lexer": "ipython3",
   "version": "3.13.0"
  }
 },
 "nbformat": 4,
 "nbformat_minor": 2
}
