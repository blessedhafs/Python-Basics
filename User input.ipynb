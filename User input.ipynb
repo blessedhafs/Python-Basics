{
 "cells": [
  {
   "cell_type": "markdown",
   "metadata": {},
   "source": [
    "## Task 5\n",
    "\n",
    "Create a Python program that accepts user input and determines the following:\n",
    "\n",
    "1. If the input is an integer:\n",
    "\n",
    "Check if it is odd or even, and display an appropriate message.\n",
    "\n",
    "\n",
    "\n",
    "2. If the input is a float:\n",
    "\n",
    "Print an error message and inform the user that only whole numbers are accepted.\n",
    "\n",
    "\n",
    "\n",
    "\n",
    "3. If the input is not a number:\n",
    "\n",
    "Display an error message that includes the invalid input to show the user what they typed.\n"
   ]
  },
  {
   "cell_type": "code",
   "execution_count": 1,
   "metadata": {},
   "outputs": [
    {
     "name": "stdout",
     "output_type": "stream",
     "text": [
      "5.0 is an odd number\n"
     ]
    }
   ],
   "source": [
    "num = (input(\"Type a number\")) #inputs a number\n",
    "try:\n",
    "    num = float(num) # updates to float\n",
    "    if num.is_integer(): # checks if it is an integer\n",
    "        if num % 2 == 0: # checks if it is an even number\n",
    "            print(f\"{num} is an even number\")\n",
    "        else:\n",
    "            print(f\"{num} is an odd number\")\n",
    "    else:\n",
    "        print(\"Error! Only whole numbers are accepted\") # print if it is a float\n",
    "except ValueError: \n",
    "    print(f\"{num} is an invalid input\") # prints if it is non numeric"
   ]
  },
  {
   "cell_type": "code",
   "execution_count": null,
   "metadata": {},
   "outputs": [],
   "source": []
  }
 ],
 "metadata": {
  "kernelspec": {
   "display_name": "Python 3",
   "language": "python",
   "name": "python3"
  },
  "language_info": {
   "codemirror_mode": {
    "name": "ipython",
    "version": 3
   },
   "file_extension": ".py",
   "mimetype": "text/x-python",
   "name": "python",
   "nbconvert_exporter": "python",
   "pygments_lexer": "ipython3",
   "version": "3.13.0"
  }
 },
 "nbformat": 4,
 "nbformat_minor": 2
}
