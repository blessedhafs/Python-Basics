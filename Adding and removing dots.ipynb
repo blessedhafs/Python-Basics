{
 "cells": [
  {
   "cell_type": "markdown",
   "metadata": {},
   "source": [
    "## Task 13\n",
    "\n",
    "Adding and removing dots\n",
    "\n",
    "Write a function named add_dots that takes a string and adds \".\" in between each \n",
    "Then, below the add_dots function, write another function named remove_dots that removes all dots from a string."
   ]
  },
  {
   "cell_type": "code",
   "execution_count": 2,
   "metadata": {},
   "outputs": [],
   "source": [
    "def add_dots(word):\n",
    "    \"\"\"\n",
    "    Insert a dot (.) between each character in the given word.\n",
    "\n",
    "    Args:\n",
    "        word (str): The input string to process.\n",
    "\n",
    "    Returns:\n",
    "        str: The modified string with dots between each character.\n",
    "\n",
    "    Example:\n",
    "        >>> add_dots(\"hello\")\n",
    "        'h.e.l.l.o'\n",
    "    \"\"\"\n",
    "    added_result = \".\".join(word)\n",
    "    return added_result\n",
    "\n",
    "def remove_dots(word):\n",
    "    \"\"\"\n",
    "    Remove all dots (.) from the given word.\n",
    "\n",
    "    Args:\n",
    "        word (str): The input string to process.\n",
    "\n",
    "    Returns:\n",
    "        str: The modified string without any dots.\n",
    "\n",
    "    Example:\n",
    "        >>> remove_dots(\"h.e.l.l.o\")\n",
    "        'hello'\n",
    "    \"\"\"\n",
    "    removed_result = word.replace(\".\", \"\")\n",
    "    return removed_result\n"
   ]
  },
  {
   "cell_type": "code",
   "execution_count": 3,
   "metadata": {},
   "outputs": [
    {
     "data": {
      "text/plain": [
       "'m.i.n.e'"
      ]
     },
     "execution_count": 3,
     "metadata": {},
     "output_type": "execute_result"
    }
   ],
   "source": [
    "add_dots(\"mine\")"
   ]
  },
  {
   "cell_type": "code",
   "execution_count": 4,
   "metadata": {},
   "outputs": [
    {
     "data": {
      "text/plain": [
       "'taken'"
      ]
     },
     "execution_count": 4,
     "metadata": {},
     "output_type": "execute_result"
    }
   ],
   "source": [
    "remove_dots(\"t.a.k.e.n\")"
   ]
  },
  {
   "cell_type": "code",
   "execution_count": 5,
   "metadata": {},
   "outputs": [
    {
     "data": {
      "text/plain": [
       "'seyi'"
      ]
     },
     "execution_count": 5,
     "metadata": {},
     "output_type": "execute_result"
    }
   ],
   "source": [
    "remove_dots(add_dots(\"seyi\"))"
   ]
  }
 ],
 "metadata": {
  "kernelspec": {
   "display_name": "Python 3",
   "language": "python",
   "name": "python3"
  },
  "language_info": {
   "codemirror_mode": {
    "name": "ipython",
    "version": 3
   },
   "file_extension": ".py",
   "mimetype": "text/x-python",
   "name": "python",
   "nbconvert_exporter": "python",
   "pygments_lexer": "ipython3",
   "version": "3.13.0"
  }
 },
 "nbformat": 4,
 "nbformat_minor": 2
}
